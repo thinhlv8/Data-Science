{
 "cells": [
  {
   "cell_type": "markdown",
   "id": "b52f6d1a-71ff-4fca-8827-ca4d9c91730f",
   "metadata": {},
   "source": [
    "# Data Science Tools and Ecosystem"
   ]
  },
  {
   "cell_type": "markdown",
   "id": "462027f5-1bef-414c-be38-3aec3941e2ac",
   "metadata": {
    "tags": []
   },
   "source": [
    "### In this notebook, Data Science Tools and Ecosystem are summarized."
   ]
  },
  {
   "cell_type": "markdown",
   "id": "e5932ffc-2561-4b81-9b2d-5f659bc7faf1",
   "metadata": {},
   "source": [
    "**Objectives:**\n",
    "Some Machine learning libraries\n",
    "- Scikit-learn\n",
    "- randomForest\n",
    "- xgboost\n",
    "- dplyr\n",
    "- tidyr"
   ]
  },
  {
   "cell_type": "markdown",
   "id": "5ec838bf-0c26-468a-978a-7bcf8355d43e",
   "metadata": {},
   "source": [
    "Some of the popular languages that Data Scientists use are:"
   ]
  },
  {
   "cell_type": "markdown",
   "id": "e94272db-10a7-4426-a5fb-b6d06cb20f8e",
   "metadata": {},
   "source": [
    "1. Python\n",
    "2. R Programing Language\n",
    "3. Java\n",
    "4. C"
   ]
  },
  {
   "cell_type": "markdown",
   "id": "08208bec-c237-4330-afec-bdf0a901b938",
   "metadata": {},
   "source": [
    "Some of the commonly used libraries used by Data Scientists include:"
   ]
  },
  {
   "cell_type": "markdown",
   "id": "a0d25e4d-442e-479f-a188-7c2c554593db",
   "metadata": {},
   "source": [
    "1. Pandas\n",
    "2. NumPy\n",
    "3. Scikit-learn\n",
    "4. TensorFlow"
   ]
  },
  {
   "cell_type": "markdown",
   "id": "69cc3e9b-1b38-48b1-abb0-3b715806289b",
   "metadata": {},
   "source": [
    "|Data Science Tools|\n",
    "--------------------\n",
    "|Pycharm Comunity|\n",
    "|R Studio|\n",
    "|Jupyter Lab|\n",
    "|Jupyter Notebook|"
   ]
  },
  {
   "cell_type": "markdown",
   "id": "c632c43d-af91-4f8d-b878-99a43afe93e9",
   "metadata": {},
   "source": [
    "### Below are a few examples of evaluating arithmetic expressions in Python"
   ]
  },
  {
   "cell_type": "code",
   "execution_count": 3,
   "id": "759042ef-eeae-4670-985b-a05982e24780",
   "metadata": {
    "tags": []
   },
   "outputs": [
    {
     "data": {
      "text/plain": [
       "17"
      ]
     },
     "execution_count": 3,
     "metadata": {},
     "output_type": "execute_result"
    }
   ],
   "source": [
    "#This a simple arithmetic expression to mutiply then add integers\n",
    "(3*4)+5"
   ]
  },
  {
   "cell_type": "code",
   "execution_count": 4,
   "id": "23876d06-834a-49f5-b529-9f00c7b05b7e",
   "metadata": {
    "tags": []
   },
   "outputs": [
    {
     "data": {
      "text/plain": [
       "3.3333333333333335"
      ]
     },
     "execution_count": 4,
     "metadata": {},
     "output_type": "execute_result"
    }
   ],
   "source": [
    "#This will convert 200 minutes to hours by diving by 60\n",
    "200/60"
   ]
  },
  {
   "cell_type": "markdown",
   "id": "69ea9dee-b2d4-452c-b2f4-1257a03af086",
   "metadata": {},
   "source": [
    "## Author\n",
    "Le Van Thinh"
   ]
  },
  {
   "cell_type": "code",
   "execution_count": null,
   "id": "95b49d60-8c18-43ac-8cf9-e87543bcbea6",
   "metadata": {},
   "outputs": [],
   "source": []
  }
 ],
 "metadata": {
  "kernelspec": {
   "display_name": "Python",
   "language": "python",
   "name": "conda-env-python-py"
  },
  "language_info": {
   "codemirror_mode": {
    "name": "ipython",
    "version": 3
   },
   "file_extension": ".py",
   "mimetype": "text/x-python",
   "name": "python",
   "nbconvert_exporter": "python",
   "pygments_lexer": "ipython3",
   "version": "3.7.12"
  }
 },
 "nbformat": 4,
 "nbformat_minor": 5
}
